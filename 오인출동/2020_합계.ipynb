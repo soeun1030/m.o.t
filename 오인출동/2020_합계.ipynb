{
 "cells": [
  {
   "cell_type": "code",
   "execution_count": 26,
   "metadata": {},
   "outputs": [
    {
     "name": "stdout",
     "output_type": "stream",
     "text": [
      "모든 소방서별 파이차트 생성 완료!\n"
     ]
    }
   ],
   "source": [
    "import pandas as pd\n",
    "import matplotlib.pyplot as plt\n",
    "\n",
    "# CSV 파일 읽기\n",
    "file_path = '오인출동현황.csv'\n",
    "data = pd.read_csv(file_path, encoding='utf-8')  # 또는 'cp949'\n",
    "\n",
    "# 소방서별 데이터를 그룹화\n",
    "fire_stations = data['소방서별'].unique()  # 소방서 이름 목록\n",
    "\n",
    "# 각 소방서별로 파이차트 생성\n",
    "for station in fire_stations:\n",
    "    station_data = data[data['소방서별'] == station]  # 해당 소방서 데이터 추출\n",
    "\n",
    "    # 필요한 데이터 추출 (예: 카테고리와 값)\n",
    "    labels = station_data.columns[2:]  # 첫 2개 컬럼 제외 (소방서 이름과 기타 정보 제외)\n",
    "    values = station_data.iloc[0, 2:]  # 첫 번째 행의 값 추출\n",
    "\n",
    "    # 파이차트 생성\n",
    "    plt.figure(figsize=(8, 8))\n",
    "    plt.pie(values, labels=labels, autopct='%1.2f%%', startangle=140)\n",
    "    plt.title(f'{station} - 오인출동현황')\n",
    "    plt.tight_layout()\n",
    "\n",
    "    # 차트 저장\n",
    "    plt.savefig(f'{station}_오인출동현황.png')\n",
    "    plt.close()\n",
    " \n",
    "print(\"모든 소방서별 파이차트 생성 완료!\")  "
   ]
  },
  {
   "cell_type": "code",
   "execution_count": null,
   "metadata": {},
   "outputs": [],
   "source": []
  }
 ],
 "metadata": {
  "kernelspec": {
   "display_name": "base",
   "language": "python",
   "name": "python3"
  },
  "language_info": {
   "codemirror_mode": {
    "name": "ipython",
    "version": 3
   },
   "file_extension": ".py",
   "mimetype": "text/x-python",
   "name": "python",
   "nbconvert_exporter": "python",
   "pygments_lexer": "ipython3",
   "version": "3.12.7"
  }
 },
 "nbformat": 4,
 "nbformat_minor": 2
}
