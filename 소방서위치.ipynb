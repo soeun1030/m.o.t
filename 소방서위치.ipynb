{
 "cells": [
  {
   "cell_type": "code",
   "execution_count": 4,
   "metadata": {},
   "outputs": [
    {
     "name": "stdout",
     "output_type": "stream",
     "text": [
      "           X좌표          Y좌표          경도         위도\n",
      "0  202791.9644  555883.1996  127.031617  37.602521\n",
      "1  202816.8937  555864.5154  127.031900  37.602353\n",
      "2  202804.1490  555873.7600  127.031755  37.602436\n",
      "3  204625.8896  554177.4189  127.052375  37.587145\n",
      "4  201365.2688  557807.8002  127.015465  37.619865\n"
     ]
    }
   ],
   "source": [
    "import pyproj\n",
    "import geopandas as gpd\n",
    "import pandas as pd\n",
    "from pyproj import Transformer\n",
    "\n",
    "\n",
    "transformer = Transformer.from_crs(\"EPSG:5186\", \"EPSG:4326\", always_xy=True)\n",
    "\n",
    "\n",
    "file_path = '위치정보.csv'\n",
    "data = pd.read_csv(file_path, encoding='EUC-KR')\n",
    "\n",
    "data['경도'], data['위도'] = transformer.transform(data['X좌표'], data['Y좌표'])\n",
    "\n",
    "\n",
    "output_data = data[['X좌표', 'Y좌표', '경도', '위도']]\n",
    "\n",
    "\n",
    "print(output_data.head())\n",
    "output_data.to_csv('소방서_위도경도_변환.csv', index=False, encoding='utf-8-sig')"
   ]
  }
 ],
 "metadata": {
  "kernelspec": {
   "display_name": "base",
   "language": "python",
   "name": "python3"
  },
  "language_info": {
   "codemirror_mode": {
    "name": "ipython",
    "version": 3
   },
   "file_extension": ".py",
   "mimetype": "text/x-python",
   "name": "python",
   "nbconvert_exporter": "python",
   "pygments_lexer": "ipython3",
   "version": "3.12.7"
  }
 },
 "nbformat": 4,
 "nbformat_minor": 2
}
